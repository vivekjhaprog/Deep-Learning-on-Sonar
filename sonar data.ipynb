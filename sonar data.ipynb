{
 "cells": [
  {
   "cell_type": "code",
   "execution_count": 1,
   "metadata": {},
   "outputs": [
    {
     "name": "stderr",
     "output_type": "stream",
     "text": [
      "Using TensorFlow backend.\n"
     ]
    }
   ],
   "source": [
    "import pandas as pd\n",
    "from sklearn.model_selection import train_test_split\n",
    "from keras.models import Sequential\n",
    "from keras.layers import Dense,Dropout\n",
    "from keras.layers import Conv2D, MaxPool2D, Flatten\n",
    "import os\n",
    "import numpy as np\n",
    "from keras.preprocessing.image import ImageDataGenerator\n",
    "from keras.preprocessing import image\n",
    "import keras\n",
    "import tensorflow as tf\n",
    "from keras.wrappers.scikit_learn import KerasClassifier\n",
    "from sklearn.model_selection import cross_val_score\n",
    "from sklearn.preprocessing import LabelEncoder\n",
    "from sklearn.model_selection import StratifiedKFold\n",
    "from sklearn.preprocessing import StandardScaler\n",
    "from sklearn.pipeline import Pipeline\n",
    "from keras.optimizers import SGD"
   ]
  },
  {
   "cell_type": "code",
   "execution_count": 20,
   "metadata": {},
   "outputs": [],
   "source": [
    "dataset=pd.read_csv(\"C:/Users/vivek jha/Documents/mines-vs-rocks deep_learning assignment/sonar.all-data.csv\",header=None)"
   ]
  },
  {
   "cell_type": "code",
   "execution_count": 21,
   "metadata": {},
   "outputs": [],
   "source": [
    "dataset = dataset.values"
   ]
  },
  {
   "cell_type": "code",
   "execution_count": 28,
   "metadata": {},
   "outputs": [],
   "source": [
    "#converting to numeric values\n",
    "X, y = dataset[:, :-1].astype(float), dataset[:, -1]"
   ]
  },
  {
   "cell_type": "code",
   "execution_count": 29,
   "metadata": {},
   "outputs": [],
   "source": [
    "#Encoding target variable \n",
    "encoder = LabelEncoder()\n",
    "encoder.fit(y)\n",
    "encoded_Y = encoder.transform(y)"
   ]
  },
  {
   "cell_type": "code",
   "execution_count": 30,
   "metadata": {},
   "outputs": [],
   "source": [
    "#Splitting to training and test set\n",
    "X_train, X_test, y_train, y_test = train_test_split(X, encoded_Y,test_size=0.2,random_state=9)"
   ]
  },
  {
   "cell_type": "code",
   "execution_count": 25,
   "metadata": {},
   "outputs": [],
   "source": [
    "model = Sequential()\n",
    "model.add(Dense(256, input_dim=60, activation='relu'))\n",
    "model.add(Dropout(0.3))\n",
    "model.add(Dense(256,activation='relu'))\n",
    "model.add(Dropout(0.3))\n",
    "model.add(Dense(1, activation='sigmoid'))\n",
    "sgd = SGD(lr=0.1, momentum=0.9)\n",
    "model.compile(loss='binary_crossentropy', optimizer='adam', metrics=['accuracy'])"
   ]
  },
  {
   "cell_type": "code",
   "execution_count": 26,
   "metadata": {},
   "outputs": [
    {
     "name": "stdout",
     "output_type": "stream",
     "text": [
      "Epoch 1/100\n",
      "166/166 [==============================] - 2s 12ms/step - loss: 0.6775 - accuracy: 0.5843\n",
      "Epoch 2/100\n",
      "166/166 [==============================] - 1s 5ms/step - loss: 0.6181 - accuracy: 0.6627: 0s - los\n",
      "Epoch 3/100\n",
      "166/166 [==============================] - 1s 5ms/step - loss: 0.5389 - accuracy: 0.7169\n",
      "Epoch 4/100\n",
      "166/166 [==============================] - 1s 5ms/step - loss: 0.4807 - accuracy: 0.7530\n",
      "Epoch 5/100\n",
      "166/166 [==============================] - 1s 5ms/step - loss: 0.4619 - accuracy: 0.7771\n",
      "Epoch 6/100\n",
      "166/166 [==============================] - 1s 5ms/step - loss: 0.4782 - accuracy: 0.7771\n",
      "Epoch 7/100\n",
      "166/166 [==============================] - 1s 5ms/step - loss: 0.4236 - accuracy: 0.8193\n",
      "Epoch 8/100\n",
      "166/166 [==============================] - 1s 6ms/step - loss: 0.4339 - accuracy: 0.7952\n",
      "Epoch 9/100\n",
      "166/166 [==============================] - 1s 5ms/step - loss: 0.4128 - accuracy: 0.8012\n",
      "Epoch 10/100\n",
      "166/166 [==============================] - 1s 5ms/step - loss: 0.3981 - accuracy: 0.8012\n",
      "Epoch 11/100\n",
      "166/166 [==============================] - 1s 5ms/step - loss: 0.3551 - accuracy: 0.8313\n",
      "Epoch 12/100\n",
      "166/166 [==============================] - 1s 5ms/step - loss: 0.3489 - accuracy: 0.8554\n",
      "Epoch 13/100\n",
      "166/166 [==============================] - 1s 5ms/step - loss: 0.2965 - accuracy: 0.8675\n",
      "Epoch 14/100\n",
      "166/166 [==============================] - 1s 5ms/step - loss: 0.3034 - accuracy: 0.8614\n",
      "Epoch 15/100\n",
      "166/166 [==============================] - 1s 5ms/step - loss: 0.3174 - accuracy: 0.8373\n",
      "Epoch 16/100\n",
      "166/166 [==============================] - 1s 5ms/step - loss: 0.3703 - accuracy: 0.8253\n",
      "Epoch 17/100\n",
      "166/166 [==============================] - 1s 5ms/step - loss: 0.3051 - accuracy: 0.8614\n",
      "Epoch 18/100\n",
      "166/166 [==============================] - 1s 5ms/step - loss: 0.3240 - accuracy: 0.8675\n",
      "Epoch 19/100\n",
      "166/166 [==============================] - 1s 5ms/step - loss: 0.2952 - accuracy: 0.8675\n",
      "Epoch 20/100\n",
      "166/166 [==============================] - 1s 5ms/step - loss: 0.3253 - accuracy: 0.8434\n",
      "Epoch 21/100\n",
      "166/166 [==============================] - 1s 5ms/step - loss: 0.2642 - accuracy: 0.8735\n",
      "Epoch 22/100\n",
      "166/166 [==============================] - 1s 5ms/step - loss: 0.2659 - accuracy: 0.8916\n",
      "Epoch 23/100\n",
      "166/166 [==============================] - 1s 5ms/step - loss: 0.2515 - accuracy: 0.9096\n",
      "Epoch 24/100\n",
      "166/166 [==============================] - 1s 5ms/step - loss: 0.2865 - accuracy: 0.8434\n",
      "Epoch 25/100\n",
      "166/166 [==============================] - 1s 5ms/step - loss: 0.2394 - accuracy: 0.8614\n",
      "Epoch 26/100\n",
      "166/166 [==============================] - 1s 5ms/step - loss: 0.1934 - accuracy: 0.9217\n",
      "Epoch 27/100\n",
      "166/166 [==============================] - 1s 5ms/step - loss: 0.2606 - accuracy: 0.9096\n",
      "Epoch 28/100\n",
      "166/166 [==============================] - 1s 5ms/step - loss: 0.2039 - accuracy: 0.9217\n",
      "Epoch 29/100\n",
      "166/166 [==============================] - 1s 5ms/step - loss: 0.2105 - accuracy: 0.9157\n",
      "Epoch 30/100\n",
      "166/166 [==============================] - 1s 5ms/step - loss: 0.2201 - accuracy: 0.9217\n",
      "Epoch 31/100\n",
      "166/166 [==============================] - 1s 6ms/step - loss: 0.2424 - accuracy: 0.8855\n",
      "Epoch 32/100\n",
      "166/166 [==============================] - 1s 5ms/step - loss: 0.2436 - accuracy: 0.8735\n",
      "Epoch 33/100\n",
      "166/166 [==============================] - 1s 6ms/step - loss: 0.1910 - accuracy: 0.9217\n",
      "Epoch 34/100\n",
      "166/166 [==============================] - 1s 5ms/step - loss: 0.2235 - accuracy: 0.9157\n",
      "Epoch 35/100\n",
      "166/166 [==============================] - 1s 5ms/step - loss: 0.2287 - accuracy: 0.9036\n",
      "Epoch 36/100\n",
      "166/166 [==============================] - 1s 5ms/step - loss: 0.1869 - accuracy: 0.9217\n",
      "Epoch 37/100\n",
      "166/166 [==============================] - 1s 5ms/step - loss: 0.1659 - accuracy: 0.9337\n",
      "Epoch 38/100\n",
      "166/166 [==============================] - 1s 5ms/step - loss: 0.1931 - accuracy: 0.9157\n",
      "Epoch 39/100\n",
      "166/166 [==============================] - 1s 5ms/step - loss: 0.1237 - accuracy: 0.9639\n",
      "Epoch 40/100\n",
      "166/166 [==============================] - 1s 5ms/step - loss: 0.1330 - accuracy: 0.9458\n",
      "Epoch 41/100\n",
      "166/166 [==============================] - 1s 5ms/step - loss: 0.1494 - accuracy: 0.9578\n",
      "Epoch 42/100\n",
      "166/166 [==============================] - 1s 5ms/step - loss: 0.1599 - accuracy: 0.9398\n",
      "Epoch 43/100\n",
      "166/166 [==============================] - 1s 5ms/step - loss: 0.1736 - accuracy: 0.9518\n",
      "Epoch 44/100\n",
      "166/166 [==============================] - 1s 5ms/step - loss: 0.1410 - accuracy: 0.9277\n",
      "Epoch 45/100\n",
      "166/166 [==============================] - 1s 4ms/step - loss: 0.1510 - accuracy: 0.9277\n",
      "Epoch 46/100\n",
      "166/166 [==============================] - 1s 5ms/step - loss: 0.1389 - accuracy: 0.9458\n",
      "Epoch 47/100\n",
      "166/166 [==============================] - 1s 5ms/step - loss: 0.1605 - accuracy: 0.9458\n",
      "Epoch 48/100\n",
      "166/166 [==============================] - 1s 5ms/step - loss: 0.0972 - accuracy: 0.9699\n",
      "Epoch 49/100\n",
      "166/166 [==============================] - 1s 4ms/step - loss: 0.0943 - accuracy: 0.9819\n",
      "Epoch 50/100\n",
      "166/166 [==============================] - 1s 6ms/step - loss: 0.1002 - accuracy: 0.9639: 0s\n",
      "Epoch 51/100\n",
      "166/166 [==============================] - 1s 5ms/step - loss: 0.0690 - accuracy: 0.9759\n",
      "Epoch 52/100\n",
      "166/166 [==============================] - 1s 5ms/step - loss: 0.0507 - accuracy: 0.9819\n",
      "Epoch 53/100\n",
      "166/166 [==============================] - 1s 5ms/step - loss: 0.1710 - accuracy: 0.9277\n",
      "Epoch 54/100\n",
      "166/166 [==============================] - 1s 5ms/step - loss: 0.0748 - accuracy: 0.9759\n",
      "Epoch 55/100\n",
      "166/166 [==============================] - 1s 5ms/step - loss: 0.1122 - accuracy: 0.9639\n",
      "Epoch 56/100\n",
      "166/166 [==============================] - 1s 5ms/step - loss: 0.1008 - accuracy: 0.9578\n",
      "Epoch 57/100\n",
      "166/166 [==============================] - 1s 4ms/step - loss: 0.0960 - accuracy: 0.9699\n",
      "Epoch 58/100\n",
      "166/166 [==============================] - 1s 5ms/step - loss: 0.0581 - accuracy: 0.9819\n",
      "Epoch 59/100\n",
      "166/166 [==============================] - 1s 5ms/step - loss: 0.0862 - accuracy: 0.9578\n",
      "Epoch 60/100\n",
      "166/166 [==============================] - 1s 5ms/step - loss: 0.0455 - accuracy: 0.9819\n",
      "Epoch 61/100\n",
      "166/166 [==============================] - 1s 5ms/step - loss: 0.0212 - accuracy: 0.9940\n",
      "Epoch 62/100\n",
      "166/166 [==============================] - 1s 5ms/step - loss: 0.0415 - accuracy: 0.9880\n",
      "Epoch 63/100\n",
      "166/166 [==============================] - 1s 4ms/step - loss: 0.1351 - accuracy: 0.9518\n",
      "Epoch 64/100\n",
      "166/166 [==============================] - 1s 4ms/step - loss: 0.0625 - accuracy: 0.9819\n",
      "Epoch 65/100\n",
      "166/166 [==============================] - 1s 5ms/step - loss: 0.1431 - accuracy: 0.9458\n",
      "Epoch 66/100\n",
      "166/166 [==============================] - 1s 5ms/step - loss: 0.0995 - accuracy: 0.9819\n",
      "Epoch 67/100\n",
      "166/166 [==============================] - 1s 4ms/step - loss: 0.0587 - accuracy: 0.9819\n",
      "Epoch 68/100\n",
      "166/166 [==============================] - 1s 5ms/step - loss: 0.0265 - accuracy: 0.9940\n",
      "Epoch 69/100\n",
      "166/166 [==============================] - 1s 5ms/step - loss: 0.0629 - accuracy: 0.9819\n",
      "Epoch 70/100\n",
      "166/166 [==============================] - 1s 4ms/step - loss: 0.0593 - accuracy: 0.9759\n",
      "Epoch 71/100\n",
      "166/166 [==============================] - 1s 5ms/step - loss: 0.1209 - accuracy: 0.9458\n",
      "Epoch 72/100\n",
      "166/166 [==============================] - 1s 5ms/step - loss: 0.1042 - accuracy: 0.9639\n",
      "Epoch 73/100\n",
      "166/166 [==============================] - 1s 5ms/step - loss: 0.0861 - accuracy: 0.9699\n",
      "Epoch 74/100\n",
      "166/166 [==============================] - 1s 5ms/step - loss: 0.0599 - accuracy: 0.9699\n",
      "Epoch 75/100\n",
      "166/166 [==============================] - 1s 5ms/step - loss: 0.1444 - accuracy: 0.9578\n",
      "Epoch 76/100\n",
      "166/166 [==============================] - 1s 6ms/step - loss: 0.0880 - accuracy: 0.9759\n",
      "Epoch 77/100\n",
      "166/166 [==============================] - 1s 5ms/step - loss: 0.0217 - accuracy: 0.9940\n",
      "Epoch 78/100\n",
      "166/166 [==============================] - 1s 5ms/step - loss: 0.0881 - accuracy: 0.9699\n",
      "Epoch 79/100\n",
      "166/166 [==============================] - 1s 5ms/step - loss: 0.0827 - accuracy: 0.9699\n",
      "Epoch 80/100\n",
      "166/166 [==============================] - 1s 5ms/step - loss: 0.1069 - accuracy: 0.9398\n",
      "Epoch 81/100\n"
     ]
    },
    {
     "name": "stdout",
     "output_type": "stream",
     "text": [
      "166/166 [==============================] - 1s 5ms/step - loss: 0.0400 - accuracy: 0.9880\n",
      "Epoch 82/100\n",
      "166/166 [==============================] - 1s 5ms/step - loss: 0.0934 - accuracy: 0.9639\n",
      "Epoch 83/100\n",
      "166/166 [==============================] - 1s 5ms/step - loss: 0.0598 - accuracy: 0.9759\n",
      "Epoch 84/100\n",
      "166/166 [==============================] - 1s 5ms/step - loss: 0.0349 - accuracy: 0.9940\n",
      "Epoch 85/100\n",
      "166/166 [==============================] - 1s 5ms/step - loss: 0.0571 - accuracy: 0.9880\n",
      "Epoch 86/100\n",
      "166/166 [==============================] - 1s 5ms/step - loss: 0.0809 - accuracy: 0.9578 ETA: 0s - loss:\n",
      "Epoch 87/100\n",
      "166/166 [==============================] - 1s 5ms/step - loss: 0.0174 - accuracy: 0.9940\n",
      "Epoch 88/100\n",
      "166/166 [==============================] - 1s 4ms/step - loss: 0.0536 - accuracy: 0.9880\n",
      "Epoch 89/100\n",
      "166/166 [==============================] - 1s 5ms/step - loss: 0.0173 - accuracy: 1.0000\n",
      "Epoch 90/100\n",
      "166/166 [==============================] - 1s 4ms/step - loss: 0.0050 - accuracy: 1.0000\n",
      "Epoch 91/100\n",
      "166/166 [==============================] - 1s 4ms/step - loss: 0.1064 - accuracy: 0.9639\n",
      "Epoch 92/100\n",
      "166/166 [==============================] - 1s 4ms/step - loss: 0.1893 - accuracy: 0.9217\n",
      "Epoch 93/100\n",
      "166/166 [==============================] - 1s 4ms/step - loss: 0.1206 - accuracy: 0.9639\n",
      "Epoch 94/100\n",
      "166/166 [==============================] - 1s 4ms/step - loss: 0.0786 - accuracy: 0.9699\n",
      "Epoch 95/100\n",
      "166/166 [==============================] - 1s 4ms/step - loss: 0.1345 - accuracy: 0.9578\n",
      "Epoch 96/100\n",
      "166/166 [==============================] - 1s 5ms/step - loss: 0.0313 - accuracy: 0.9880\n",
      "Epoch 97/100\n",
      "166/166 [==============================] - 1s 4ms/step - loss: 0.0064 - accuracy: 1.0000\n",
      "Epoch 98/100\n",
      "166/166 [==============================] - 1s 5ms/step - loss: 0.0466 - accuracy: 0.9880\n",
      "Epoch 99/100\n",
      "166/166 [==============================] - 1s 4ms/step - loss: 0.0159 - accuracy: 0.9940\n",
      "Epoch 100/100\n",
      "166/166 [==============================] - 1s 5ms/step - loss: 0.0206 - accuracy: 0.9940\n"
     ]
    },
    {
     "data": {
      "text/plain": [
       "<keras.callbacks.callbacks.History at 0x23121fe3fd0>"
      ]
     },
     "execution_count": 26,
     "metadata": {},
     "output_type": "execute_result"
    }
   ],
   "source": [
    "model.fit(X_train, y_train, epochs=100, batch_size=1)"
   ]
  },
  {
   "cell_type": "code",
   "execution_count": 27,
   "metadata": {},
   "outputs": [
    {
     "name": "stdout",
     "output_type": "stream",
     "text": [
      "42/42 [==============================] - 0s 5ms/step\n",
      "Test accuracy: 0.8809523582458496\n"
     ]
    }
   ],
   "source": [
    "test_loss, test_acc = model.evaluate(X_test, y_test)\n",
    "print('Test accuracy:', test_acc)"
   ]
  },
  {
   "cell_type": "code",
   "execution_count": null,
   "metadata": {},
   "outputs": [],
   "source": []
  }
 ],
 "metadata": {
  "kernelspec": {
   "display_name": "Python 3",
   "language": "python",
   "name": "python3"
  },
  "language_info": {
   "codemirror_mode": {
    "name": "ipython",
    "version": 3
   },
   "file_extension": ".py",
   "mimetype": "text/x-python",
   "name": "python",
   "nbconvert_exporter": "python",
   "pygments_lexer": "ipython3",
   "version": "3.7.3"
  }
 },
 "nbformat": 4,
 "nbformat_minor": 2
}
